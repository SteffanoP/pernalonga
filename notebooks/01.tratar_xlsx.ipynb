{
 "cells": [
  {
   "metadata": {},
   "cell_type": "markdown",
   "source": " # Tratar o .xlsx para um csv, fazendo requisições para os links das matérias\n",
   "id": "8cf57fd6503cd163"
  },
  {
   "metadata": {
    "ExecuteTime": {
     "end_time": "2025-06-23T00:23:02.044107Z",
     "start_time": "2025-06-23T00:22:58.295344Z"
    }
   },
   "cell_type": "code",
   "source": [
    "!pip install openpyxl\n",
    "import pandas as pd\n",
    "import os\n",
    "from bs4 import BeautifulSoup"
   ],
   "id": "initial_id",
   "outputs": [
    {
     "name": "stdout",
     "output_type": "stream",
     "text": [
      "Requirement already satisfied: openpyxl in c:\\users\\gabri\\miniconda3\\lib\\site-packages (3.1.5)\n",
      "Requirement already satisfied: et-xmlfile in c:\\users\\gabri\\miniconda3\\lib\\site-packages (from openpyxl) (2.0.0)\n"
     ]
    }
   ],
   "execution_count": 1
  },
  {
   "metadata": {
    "ExecuteTime": {
     "end_time": "2025-06-23T00:23:03.027740Z",
     "start_time": "2025-06-23T00:23:02.463799Z"
    }
   },
   "cell_type": "code",
   "source": [
    "arquivo_csv = '../data/central_de_fatos.csv'\n",
    "# Leitura do arquivo CSV\n",
    "df_csv = pd.read_csv(arquivo_csv, sep=';', encoding='utf-8')"
   ],
   "id": "b17ed177e7826c74",
   "outputs": [],
   "execution_count": 2
  },
  {
   "metadata": {
    "ExecuteTime": {
     "end_time": "2025-06-23T00:23:03.582310Z",
     "start_time": "2025-06-23T00:23:03.045129Z"
    }
   },
   "cell_type": "code",
   "source": [
    "arquivo_xlsx = '../data/desinfopedia_final.xlsx'\n",
    "\n",
    "# Leitura do arquivo Excel\n",
    "df_xlsx = pd.read_excel(arquivo_xlsx)\n",
    "#df_xlsx = df_xlsx.drop_duplicates()\n",
    "#print(\"\\nArquivo XLSX sem duplicatas:\")\n",
    "df_xlsx.head()"
   ],
   "id": "34a1fdf0e77bfdfa",
   "outputs": [
    {
     "data": {
      "text/plain": [
       "                                             Título:  \\\n",
       "0  Maiara e Maraisa não gritaram ‘fora Bolsonaro’...   \n",
       "1  Lula, Bolsonaro, Ciro e Tebet erram ao falar d...   \n",
       "2  Vídeo que mostra Lula se entregando à PF em 20...   \n",
       "3  Anúncio de Thronicke engana ao dizer que uso d...   \n",
       "4  Luís Roberto Barroso não é sogro de dono da Re...   \n",
       "\n",
       "                                               Link:     Fonte:      Data:  \n",
       "0  https://www.aosfatos.org/noticias/maiara-e-mar...  Aos Fatos 2022-09-16  \n",
       "1  https://www.aosfatos.org/noticias/lula-bolsona...  Aos Fatos 2022-09-16  \n",
       "2  https://www.aosfatos.org/noticias/video-mostra...  Aos Fatos 2022-09-14  \n",
       "3  https://www.aosfatos.org/noticias/anuncio-de-t...  Aos Fatos 2022-09-14  \n",
       "4  https://www.aosfatos.org/noticias/barroso-stf-...  Aos Fatos 2022-09-14  "
      ],
      "text/html": [
       "<div>\n",
       "<style scoped>\n",
       "    .dataframe tbody tr th:only-of-type {\n",
       "        vertical-align: middle;\n",
       "    }\n",
       "\n",
       "    .dataframe tbody tr th {\n",
       "        vertical-align: top;\n",
       "    }\n",
       "\n",
       "    .dataframe thead th {\n",
       "        text-align: right;\n",
       "    }\n",
       "</style>\n",
       "<table border=\"1\" class=\"dataframe\">\n",
       "  <thead>\n",
       "    <tr style=\"text-align: right;\">\n",
       "      <th></th>\n",
       "      <th>Título:</th>\n",
       "      <th>Link:</th>\n",
       "      <th>Fonte:</th>\n",
       "      <th>Data:</th>\n",
       "    </tr>\n",
       "  </thead>\n",
       "  <tbody>\n",
       "    <tr>\n",
       "      <th>0</th>\n",
       "      <td>Maiara e Maraisa não gritaram ‘fora Bolsonaro’...</td>\n",
       "      <td>https://www.aosfatos.org/noticias/maiara-e-mar...</td>\n",
       "      <td>Aos Fatos</td>\n",
       "      <td>2022-09-16</td>\n",
       "    </tr>\n",
       "    <tr>\n",
       "      <th>1</th>\n",
       "      <td>Lula, Bolsonaro, Ciro e Tebet erram ao falar d...</td>\n",
       "      <td>https://www.aosfatos.org/noticias/lula-bolsona...</td>\n",
       "      <td>Aos Fatos</td>\n",
       "      <td>2022-09-16</td>\n",
       "    </tr>\n",
       "    <tr>\n",
       "      <th>2</th>\n",
       "      <td>Vídeo que mostra Lula se entregando à PF em 20...</td>\n",
       "      <td>https://www.aosfatos.org/noticias/video-mostra...</td>\n",
       "      <td>Aos Fatos</td>\n",
       "      <td>2022-09-14</td>\n",
       "    </tr>\n",
       "    <tr>\n",
       "      <th>3</th>\n",
       "      <td>Anúncio de Thronicke engana ao dizer que uso d...</td>\n",
       "      <td>https://www.aosfatos.org/noticias/anuncio-de-t...</td>\n",
       "      <td>Aos Fatos</td>\n",
       "      <td>2022-09-14</td>\n",
       "    </tr>\n",
       "    <tr>\n",
       "      <th>4</th>\n",
       "      <td>Luís Roberto Barroso não é sogro de dono da Re...</td>\n",
       "      <td>https://www.aosfatos.org/noticias/barroso-stf-...</td>\n",
       "      <td>Aos Fatos</td>\n",
       "      <td>2022-09-14</td>\n",
       "    </tr>\n",
       "  </tbody>\n",
       "</table>\n",
       "</div>"
      ]
     },
     "execution_count": 3,
     "metadata": {},
     "output_type": "execute_result"
    }
   ],
   "execution_count": 3
  },
  {
   "metadata": {
    "ExecuteTime": {
     "end_time": "2025-06-23T00:27:45.412948Z",
     "start_time": "2025-06-23T00:23:03.638648Z"
    }
   },
   "cell_type": "code",
   "source": [
    "import requests\n",
    "\n",
    "# Renomear colunas do XLSX para coincidir com as do CSV\n",
    "df_xlsx = df_xlsx.rename(columns={\n",
    "    'Título:': 'title',\n",
    "    'Link:': 'url',\n",
    "    'Fonte:': 'source_name',\n",
    "    'Data:': 'publication_date'\n",
    "})\n",
    "\n",
    "def extrair_primeiro_paragrafo(url):\n",
    "    try:\n",
    "        response = requests.get(url, timeout=10)\n",
    "        if response.status_code == 200:\n",
    "            soup = BeautifulSoup(response.content, 'html.parser')\n",
    "            div = soup.find('div', id='entry-content')\n",
    "            if div: #aosFatos\n",
    "                p = div.find('p')\n",
    "                #print(p.get_text(strip=True))\n",
    "                return p.get_text(strip=True) if p else None\n",
    "            else:\n",
    "                if soup.find('p', class_=lambda c: c and 'content-text__container' in c): #G1\n",
    "                    p = soup.find('p', class_=lambda c: c and 'content-text__container' in c)\n",
    "                    return p.get_text(strip=True) if p else None\n",
    "                #o site a lupa não tem um site bem caracterizado para extrair informações\n",
    "\n",
    "        return None\n",
    "    except Exception as e:\n",
    "        print(f\"Erro ao acessar {url}: {e}\")\n",
    "        return None\n",
    "\n",
    "# Adicionar colunas ausentes ao XLSX para igualar ao CSV (com NaN)\n",
    "for col in df_csv.columns:\n",
    "    if col not in df_xlsx.columns:\n",
    "        df_xlsx[col] = None\n",
    "\n",
    "df_xlsx['rating'] = ['Falso'] * df_xlsx.shape[0]\n",
    "# Aplica a função em cada linha da coluna 'url'\n",
    "df_xlsx['text_news'] = df_xlsx['url'].apply(extrair_primeiro_paragrafo)\n",
    "df_xlsx.to_csv('../data/desinfopedia_final_completo.csv', sep=';', index=False, encoding='utf-8-sig')"
   ],
   "id": "f121bf64f250c684",
   "outputs": [
    {
     "name": "stdout",
     "output_type": "stream",
     "text": [
      "Erro ao acessar Música a favor de Lula é inserida em vídeo que mostra torcedores do Liverpool: Failed to parse: Música a favor de Lula é inserida em vídeo que mostra torcedores do Liverpool\n",
      "Erro ao acessar Preço do arroz não subiu por causa de demarcação de terra indígena: Failed to parse: Preço do arroz não subiu por causa de demarcação de terra indígena\n",
      "Erro ao acessar One7 não administra carreira de Gusttavo Lima | Aos Fatos: Failed to parse: One7 não administra carreira de Gusttavo Lima | Aos Fatos\n",
      "Erro ao acessar CNN não disse que comandante russo acordou morto na Ucrânia | Aos Fatos: Failed to parse: CNN não disse que comandante russo acordou morto na Ucrânia | Aos Fatos\n",
      "Erro ao acessar Vídeo em que Gusttavo Lima beija bandeira é antes do Lolla | Aos Fatos: Failed to parse: Vídeo em que Gusttavo Lima beija bandeira é antes do Lolla | Aos Fatos\n",
      "Erro ao acessar PF não fez exposição de ‘dinheiro roubado' pelo PT | Aos Fatos: Failed to parse: PF não fez exposição de ‘dinheiro roubado' pelo PT | Aos Fatos\n",
      "Erro ao acessar É falso que Ministério da Defesa da Ucrânia foi bombardeado com ‘míssil hipersônico’: Failed to parse: É falso que Ministério da Defesa da Ucrânia foi bombardeado com ‘míssil hipersônico’\n",
      "Erro ao acessar É falso que filho de Ivete cantou música com ‘apologia à facada em Bolsonaro’: Failed to parse: É falso que filho de Ivete cantou música com ‘apologia à facada em Bolsonaro’\n"
     ]
    }
   ],
   "execution_count": 4
  }
 ],
 "metadata": {
  "kernelspec": {
   "display_name": "Python 3",
   "language": "python",
   "name": "python3"
  },
  "language_info": {
   "codemirror_mode": {
    "name": "ipython",
    "version": 2
   },
   "file_extension": ".py",
   "mimetype": "text/x-python",
   "name": "python",
   "nbconvert_exporter": "python",
   "pygments_lexer": "ipython2",
   "version": "2.7.6"
  }
 },
 "nbformat": 4,
 "nbformat_minor": 5
}
